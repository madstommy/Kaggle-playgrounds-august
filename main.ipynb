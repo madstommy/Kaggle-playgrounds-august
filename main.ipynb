{
 "cells": [
  {
   "cell_type": "code",
   "execution_count": 107,
   "id": "57f51e86",
   "metadata": {},
   "outputs": [],
   "source": [
    "import pandas as pd\n",
    "import numpy as np\n",
    "from matplotlib import pyplot as plt"
   ]
  },
  {
   "cell_type": "code",
   "execution_count": 122,
   "id": "6afde6b2",
   "metadata": {},
   "outputs": [],
   "source": [
    "train_raw = pd.read_csv('./input data/train.csv')\n",
    "test_raw = pd.read_csv('./input data/test.csv')\n",
    "\n",
    "train_ids = train_raw['id']\n",
    "train_y = train_raw['failure']\n",
    "train_x = train_raw.drop(['id', 'failure'], axis='columns')\n",
    "\n",
    "test_ids = test_raw['id']\n",
    "test_x = test_raw.drop(['id'], axis='columns')"
   ]
  },
  {
   "cell_type": "code",
   "execution_count": 123,
   "id": "1a4e1c21",
   "metadata": {},
   "outputs": [
    {
     "name": "stderr",
     "output_type": "stream",
     "text": [
      "C:\\ProgramData\\Anaconda3\\lib\\site-packages\\sklearn\\preprocessing\\_encoders.py:170: UserWarning: Found unknown categories in columns [1] during transform. These unknown categories will be encoded as all zeros\n",
      "  warnings.warn(\n"
     ]
    }
   ],
   "source": [
    "from sklearn.preprocessing import OneHotEncoder\n",
    "\n",
    "categorical_columns = ['attribute_2', 'attribute_3']\n",
    "encode_features = ['attribute_0', 'attribute_1']\n",
    "encoder_output = ['a0_mat7', 'a1_mat6', 'a1_mat8']\n",
    "ohe = OneHotEncoder( categories=[ ['material_5', 'material_7'], ['material_5', 'material_6', 'material_8']],\n",
    "                   drop='first', sparse=False, handle_unknown='ignore')\n",
    "ohe.fit(train_x[encode_features])\n",
    "\n",
    "train_x[encoder_output] = ohe.transform(train_x[encode_features])\n",
    "train_x = train_x.drop(columns=encode_features)\n",
    "#train_x = train_x.drop(columns=['product_code'])\n",
    "\n",
    "test_x[encoder_output] = ohe.transform(test_x[encode_features])\n",
    "test_x = test_x.drop(columns=encode_features)\n",
    "#test_x = test_x.drop(columns=['product_code'])"
   ]
  },
  {
   "cell_type": "code",
   "execution_count": 124,
   "id": "a1c417c0",
   "metadata": {},
   "outputs": [],
   "source": [
    "train_pc = train_x['product_code']\n",
    "test_pc = test_x['product_code']\n",
    "train_x = train_x.drop(columns=['product_code'])\n",
    "test_x = test_x.drop(columns=['product_code'])"
   ]
  },
  {
   "cell_type": "code",
   "execution_count": 125,
   "id": "42526e6d",
   "metadata": {},
   "outputs": [],
   "source": [
    "from sklearn.experimental import enable_iterative_imputer\n",
    "from sklearn.impute import IterativeImputer\n",
    "\n",
    "imp = IterativeImputer()\n",
    "train_x = imp.fit_transform(train_x)\n",
    "test_x = imp.transform(test_x)\n",
    "\n",
    "train_x = pd.DataFrame(train_x, columns=imp.feature_names_in_)\n",
    "train_x['product_code'] = train_pc\n",
    "\n",
    "test_x = pd.DataFrame(test_x, columns=imp.feature_names_in_)\n",
    "test_x['product_code'] = test_pc"
   ]
  },
  {
   "cell_type": "code",
   "execution_count": 126,
   "id": "df136022",
   "metadata": {},
   "outputs": [
    {
     "name": "stdout",
     "output_type": "stream",
     "text": [
      "   loading  attribute_2  attribute_3  measurement_0  measurement_1  \\\n",
      "0    80.10          9.0          5.0            7.0            8.0   \n",
      "1    84.89          9.0          5.0           14.0            3.0   \n",
      "2    82.43          9.0          5.0           12.0            1.0   \n",
      "3   101.07          9.0          5.0           13.0            2.0   \n",
      "4   188.06          9.0          5.0            9.0            2.0   \n",
      "\n",
      "   measurement_2  measurement_3  measurement_4  measurement_5  measurement_6  \\\n",
      "0            4.0         18.040         12.518         15.748         19.292   \n",
      "1            3.0         18.213         11.540         17.717         17.893   \n",
      "2            5.0         18.057         11.652         16.738         18.240   \n",
      "3            6.0         17.295         11.188         18.576         18.339   \n",
      "4            8.0         19.346         12.950         16.990         15.746   \n",
      "\n",
      "   ...  measurement_12  measurement_13  measurement_14  measurement_15  \\\n",
      "0  ...          15.193          15.029       16.293356          13.034   \n",
      "1  ...          11.755          14.732       15.425000          14.395   \n",
      "2  ...          13.798          16.711       18.631000          14.094   \n",
      "3  ...          10.020          15.250       15.562000          16.154   \n",
      "4  ...          12.428          16.182       12.760000          13.153   \n",
      "\n",
      "   measurement_16  measurement_17  a0_mat7  a1_mat6  a1_mat8  product_code  \n",
      "0          14.684         764.100      1.0      0.0      1.0             A  \n",
      "1          15.631         682.057      1.0      0.0      1.0             A  \n",
      "2          17.946         663.376      1.0      0.0      1.0             A  \n",
      "3          17.172         826.282      1.0      0.0      1.0             A  \n",
      "4          16.412         579.885      1.0      0.0      1.0             A  \n",
      "\n",
      "[5 rows x 25 columns]\n"
     ]
    }
   ],
   "source": [
    "print(train_x.head())"
   ]
  },
  {
   "cell_type": "code",
   "execution_count": 128,
   "id": "8138a7d7",
   "metadata": {},
   "outputs": [],
   "source": [
    "from sklearn.ensemble import IsolationForest\n",
    "\n",
    "feature_names = imp.feature_names_in_\n",
    "\n",
    "outlier_detector = IsolationForest()\n",
    "results = outlier_detector.fit_predict(train_x[feature_names])"
   ]
  },
  {
   "cell_type": "code",
   "execution_count": 130,
   "id": "9dfaea40",
   "metadata": {},
   "outputs": [
    {
     "name": "stdout",
     "output_type": "stream",
     "text": [
      "-2068\n"
     ]
    },
    {
     "data": {
      "image/png": "[encoded data removed]",
      "text/plain": [
       "<Figure size 432x288 with 1 Axes>"
      ]
     },
     "metadata": {
      "needs_background": "light"
     },
     "output_type": "display_data"
    }
   ],
   "source": [
    "scores = outlier_detector.score_samples(train_x[feature_names])\n",
    "plt.scatter(train_ids[results>0], scores[results>0], c='green', s=1)\n",
    "plt.scatter(train_ids[results<0], scores[results<0], c='red', s=1)\n",
    "print(np.sum(results[results<0], axis=0))"
   ]
  },
  {
   "cell_type": "code",
   "execution_count": 248,
   "id": "7a3158cc",
   "metadata": {},
   "outputs": [],
   "source": [
    "from sklearn.preprocessing import QuantileTransformer\n",
    "from sklearn.preprocessing import StandardScaler\n",
    "from sklearn.preprocessing import PowerTransformer"
   ]
  },
  {
   "cell_type": "code",
   "execution_count": 135,
   "id": "08cb9f3c",
   "metadata": {},
   "outputs": [],
   "source": [
    "from sklearn.model_selection import GroupKFold\n",
    "kf = GroupKFold(n_splits=5)\n",
    "groups = train_x['product_code']"
   ]
  },
  {
   "cell_type": "code",
   "execution_count": 165,
   "id": "e2041a4e",
   "metadata": {},
   "outputs": [],
   "source": [
    "from sklearn.ensemble import RandomForestClassifier\n",
    "from sklearn.pipeline import Pipeline\n",
    "from sklearn.metrics import f1_score\n",
    "from sklearn.metrics import roc_auc_score\n",
    "from sklearn.model_selection import ParameterGrid\n",
    "\n",
    "param_grid = dict()\n",
    "param_grid['n_estimators'] = [100]\n",
    "param_grid['max_depth'] = np.arange(1, 5)\n",
    "param_grid['ccp_alpha'] = np.arange(0, 0.05, 0.01)\n",
    "param_grid['n_jobs'] = [-1]\n",
    "params = ParameterGrid(param_grid)\n",
    "\n",
    "total_results = []\n",
    "for g in params:\n",
    "    f1_scores = []\n",
    "    accuracies = []\n",
    "    roc_auc_scores = []\n",
    "\n",
    "    for train_index, test_index in kf.split(train_x, train_y, groups):\n",
    "        pipe = Pipeline([('rf', RandomForestClassifier())])\n",
    "        pipe['rf'].set_params(**g)\n",
    "        x_tr = train_x.iloc[train_index][feature_names]\n",
    "        x_va = train_x.iloc[test_index][feature_names]\n",
    "        y_tr = train_y[train_index]\n",
    "        y_va = train_y[test_index]\n",
    "        pipe.fit(x_tr, y_tr)\n",
    "        preds = pipe.predict(x_va)\n",
    "        f1_scores.append(f1_score(y_va, preds))\n",
    "        roc_auc_scores.append(roc_auc_score(y_va, preds))\n",
    "        accuracies.append(pipe.score(x_va, y_va))\n",
    "    \n",
    "    total_results.append( (g, np.mean(f1_scores), np.mean(accuracies), np.mean(roc_auc_scores)))"
   ]
  },
  {
   "cell_type": "code",
   "execution_count": 170,
   "id": "0d30de26",
   "metadata": {},
   "outputs": [
    {
     "name": "stdout",
     "output_type": "stream",
     "text": [
      "                                               params   f1  accuracy  roc_auc\n",
      "0   {'ccp_alpha': 0.0, 'max_depth': 1, 'n_estimato...  0.0  0.787243      0.5\n",
      "1   {'ccp_alpha': 0.0, 'max_depth': 2, 'n_estimato...  0.0  0.787243      0.5\n",
      "18  {'ccp_alpha': 0.04, 'max_depth': 3, 'n_estimat...  0.0  0.787243      0.5\n",
      "17  {'ccp_alpha': 0.04, 'max_depth': 2, 'n_estimat...  0.0  0.787243      0.5\n",
      "16  {'ccp_alpha': 0.04, 'max_depth': 1, 'n_estimat...  0.0  0.787243      0.5\n"
     ]
    }
   ],
   "source": [
    "result_df = pd.DataFrame(total_results, columns=['params', 'f1', 'accuracy', 'roc_auc'])\n",
    "result_df = result_df.sort_values('roc_auc', axis=0, ascending=False)\n",
    "print(result_df.head())"
   ]
  },
  {
   "cell_type": "code",
   "execution_count": 256,
   "id": "7d81934c",
   "metadata": {},
   "outputs": [
    {
     "name": "stderr",
     "output_type": "stream",
     "text": [
      "C:\\ProgramData\\Anaconda3\\lib\\site-packages\\sklearn\\preprocessing\\_data.py:3253: RuntimeWarning: divide by zero encountered in log\n",
      "  loglike = -n_samples / 2 * np.log(x_trans.var())\n",
      "C:\\ProgramData\\Anaconda3\\lib\\site-packages\\sklearn\\preprocessing\\_data.py:3253: RuntimeWarning: divide by zero encountered in log\n",
      "  loglike = -n_samples / 2 * np.log(x_trans.var())\n",
      "C:\\ProgramData\\Anaconda3\\lib\\site-packages\\sklearn\\preprocessing\\_data.py:3253: RuntimeWarning: divide by zero encountered in log\n",
      "  loglike = -n_samples / 2 * np.log(x_trans.var())\n",
      "C:\\ProgramData\\Anaconda3\\lib\\site-packages\\sklearn\\preprocessing\\_data.py:3253: RuntimeWarning: divide by zero encountered in log\n",
      "  loglike = -n_samples / 2 * np.log(x_trans.var())\n",
      "C:\\ProgramData\\Anaconda3\\lib\\site-packages\\sklearn\\preprocessing\\_data.py:3253: RuntimeWarning: divide by zero encountered in log\n",
      "  loglike = -n_samples / 2 * np.log(x_trans.var())\n",
      "C:\\ProgramData\\Anaconda3\\lib\\site-packages\\sklearn\\preprocessing\\_data.py:3253: RuntimeWarning: divide by zero encountered in log\n",
      "  loglike = -n_samples / 2 * np.log(x_trans.var())\n",
      "C:\\ProgramData\\Anaconda3\\lib\\site-packages\\sklearn\\preprocessing\\_data.py:3253: RuntimeWarning: divide by zero encountered in log\n",
      "  loglike = -n_samples / 2 * np.log(x_trans.var())\n",
      "C:\\ProgramData\\Anaconda3\\lib\\site-packages\\sklearn\\preprocessing\\_data.py:3253: RuntimeWarning: divide by zero encountered in log\n",
      "  loglike = -n_samples / 2 * np.log(x_trans.var())\n",
      "C:\\ProgramData\\Anaconda3\\lib\\site-packages\\sklearn\\preprocessing\\_data.py:3253: RuntimeWarning: divide by zero encountered in log\n",
      "  loglike = -n_samples / 2 * np.log(x_trans.var())\n",
      "C:\\ProgramData\\Anaconda3\\lib\\site-packages\\sklearn\\preprocessing\\_data.py:3253: RuntimeWarning: divide by zero encountered in log\n",
      "  loglike = -n_samples / 2 * np.log(x_trans.var())\n",
      "C:\\ProgramData\\Anaconda3\\lib\\site-packages\\sklearn\\preprocessing\\_data.py:3253: RuntimeWarning: divide by zero encountered in log\n",
      "  loglike = -n_samples / 2 * np.log(x_trans.var())\n",
      "C:\\ProgramData\\Anaconda3\\lib\\site-packages\\sklearn\\preprocessing\\_data.py:3253: RuntimeWarning: divide by zero encountered in log\n",
      "  loglike = -n_samples / 2 * np.log(x_trans.var())\n",
      "C:\\ProgramData\\Anaconda3\\lib\\site-packages\\sklearn\\preprocessing\\_data.py:3253: RuntimeWarning: divide by zero encountered in log\n",
      "  loglike = -n_samples / 2 * np.log(x_trans.var())\n",
      "C:\\ProgramData\\Anaconda3\\lib\\site-packages\\sklearn\\preprocessing\\_data.py:3253: RuntimeWarning: divide by zero encountered in log\n",
      "  loglike = -n_samples / 2 * np.log(x_trans.var())\n",
      "C:\\ProgramData\\Anaconda3\\lib\\site-packages\\sklearn\\preprocessing\\_data.py:3253: RuntimeWarning: divide by zero encountered in log\n",
      "  loglike = -n_samples / 2 * np.log(x_trans.var())\n",
      "C:\\ProgramData\\Anaconda3\\lib\\site-packages\\sklearn\\preprocessing\\_data.py:3253: RuntimeWarning: divide by zero encountered in log\n",
      "  loglike = -n_samples / 2 * np.log(x_trans.var())\n"
     ]
    }
   ],
   "source": [
    "from sklearn.linear_model import LogisticRegression\n",
    "\n",
    "logreg_param_grid = dict()\n",
    "logreg_param_grid['penalty'] = ['elasticnet']\n",
    "logreg_param_grid['C'] = [ 0.01]\n",
    "logreg_param_grid['max_iter'] = [1000]\n",
    "logreg_param_grid['solver'] = ['saga']\n",
    "logreg_param_grid['l1_ratio'] = np.arange(0.1, 0.9, 0.1)\n",
    "logreg_param_grid['n_jobs'] = [-1]\n",
    "logreg_params = ParameterGrid(logreg_param_grid)\n",
    "\n",
    "logreg_total_results = []\n",
    "unscaled_total_results = []\n",
    "quantile_total_results = []\n",
    "\n",
    "for g in logreg_params:\n",
    "    unscaled_f1_scores = []\n",
    "    unscaled_accuracies = []\n",
    "    unscaled_roc_auc_scores = []\n",
    "    \n",
    "    quantile_f1_scores = []\n",
    "    quantile_accuracies = []\n",
    "    quantile_roc_auc_scores = []\n",
    "    \n",
    "    f1_scores = []\n",
    "    accuracies = []\n",
    "    roc_auc_scores = []\n",
    "    for train_index, test_index in kf.split(train_x, train_y, groups):\n",
    "        x_tr = train_x.iloc[train_index][feature_names]\n",
    "        x_va = train_x.iloc[test_index][feature_names]\n",
    "        y_tr = train_y[train_index]\n",
    "        y_va = train_y[test_index]\n",
    "        \n",
    "        pipe = Pipeline([('scaler', StandardScaler()), ('lr', LogisticRegression())])\n",
    "        pipe['lr'].set_params(**g)\n",
    "        pipe.fit(x_tr, y_tr)\n",
    "        probs = pipe.predict_proba(x_va)[:,1]\n",
    "        preds = pipe.predict(x_va)\n",
    "        f1_scores.append(f1_score(y_va, preds))\n",
    "        accuracies.append(pipe.score(x_va, y_va))\n",
    "        roc_auc_scores.append(roc_auc_score(y_va, probs))\n",
    "        \n",
    "        \n",
    "        quantile_pipe = Pipeline([('scaler', PowerTransformer()), ('lr', LogisticRegression())])\n",
    "        quantile_pipe['lr'].set_params(**g)\n",
    "        quantile_pipe.fit(x_tr, y_tr)\n",
    "        quantile_probs = quantile_pipe.predict_proba(x_va)[:,1]\n",
    "        quantile_preds = quantile_pipe.predict(x_va)\n",
    "        quantile_f1_scores.append(f1_score(y_va, quantile_preds))\n",
    "        quantile_accuracies.append(quantile_pipe.score(x_va, y_va))\n",
    "        quantile_roc_auc_scores.append(roc_auc_score(y_va, quantile_probs))\n",
    "    \n",
    "\n",
    "    logreg_total_results.append( (g, np.mean(f1_scores), np.mean(accuracies), np.mean(roc_auc_scores)))\n",
    "    quantile_total_results.append( (g, np.mean(quantile_f1_scores), np.mean(quantile_accuracies), np.mean(quantile_roc_auc_scores)))"
   ]
  },
  {
   "cell_type": "code",
   "execution_count": 257,
   "id": "2bfb6822",
   "metadata": {},
   "outputs": [
    {
     "name": "stdout",
     "output_type": "stream",
     "text": [
      "    roc_auc        f1  accuracy\n",
      "7  0.589653  0.003191  0.787067\n",
      "6  0.589621  0.003516  0.787024\n",
      "5  0.589552  0.003840  0.787058\n",
      "4  0.589395  0.003840  0.787058\n",
      "3  0.589190  0.003837  0.786951\n",
      "    roc_auc        f1  accuracy\n",
      "7  0.589193  0.000000  0.787243\n",
      "6  0.589134  0.000000  0.787243\n",
      "5  0.589077  0.000000  0.787243\n",
      "4  0.588945  0.000000  0.787243\n",
      "3  0.588813  0.000328  0.787278\n"
     ]
    }
   ],
   "source": [
    "logreg_result_df = pd.DataFrame(logreg_total_results, columns=['params', 'f1', 'accuracy', 'roc_auc'])\n",
    "logreg_result_df = logreg_result_df.sort_values('roc_auc', axis=0, ascending=False)\n",
    "print(logreg_result_df.head()[['roc_auc', 'f1', 'accuracy']])\n",
    "\n",
    "\n",
    "quantile_result_df = pd.DataFrame(quantile_total_results, columns=['params', 'f1', 'accuracy', 'roc_auc'])\n",
    "quantile_result_df = quantile_result_df.sort_values('roc_auc', axis=0, ascending=False)\n",
    "print(quantile_result_df.head()[['roc_auc', 'f1', 'accuracy']])"
   ]
  },
  {
   "cell_type": "code",
   "execution_count": 258,
   "id": "c5119810",
   "metadata": {},
   "outputs": [
    {
     "name": "stdout",
     "output_type": "stream",
     "text": [
      "7    {'C': 0.01, 'l1_ratio': 0.8, 'max_iter': 1000,...\n",
      "6    {'C': 0.01, 'l1_ratio': 0.7000000000000001, 'm...\n",
      "5    {'C': 0.01, 'l1_ratio': 0.6, 'max_iter': 1000,...\n",
      "4    {'C': 0.01, 'l1_ratio': 0.5, 'max_iter': 1000,...\n",
      "3    {'C': 0.01, 'l1_ratio': 0.4, 'max_iter': 1000,...\n",
      "Name: params, dtype: object\n",
      "7    {'C': 0.01, 'l1_ratio': 0.8, 'max_iter': 1000,...\n",
      "6    {'C': 0.01, 'l1_ratio': 0.7000000000000001, 'm...\n",
      "5    {'C': 0.01, 'l1_ratio': 0.6, 'max_iter': 1000,...\n",
      "4    {'C': 0.01, 'l1_ratio': 0.5, 'max_iter': 1000,...\n",
      "3    {'C': 0.01, 'l1_ratio': 0.4, 'max_iter': 1000,...\n",
      "Name: params, dtype: object\n"
     ]
    }
   ],
   "source": [
    "print(logreg_result_df.head()['params'])\n",
    "print(quantile_result_df.head()['params'])"
   ]
  },
  {
   "cell_type": "code",
   "execution_count": 268,
   "id": "78289e80",
   "metadata": {},
   "outputs": [],
   "source": [
    "p = quantile_result_df.iloc[0]['params']\n",
    "final_pipe = Pipeline([('scaler', PowerTransformer()), ('lr', LogisticRegression())])\n",
    "final_pipe['lr'].set_params(**p)\n",
    "final_pipe.fit(train_x[feature_names], train_y)\n",
    "predictions = final_pipe.predict_proba(test_x[feature_names])[:,1]\n",
    "feature_importances = final_pipe['lr'].coef_.reshape(-1,)\n",
    "\n",
    "p_2 = logreg_result_df.iloc[0]['params']\n",
    "final_pipe_2 = Pipeline([('scaler', StandardScaler()), ('lr', LogisticRegression())])\n",
    "final_pipe_2['lr'].set_params(**p_2)\n",
    "final_pipe_2.fit(train_x[feature_names], train_y)\n",
    "predictions_2 = final_pipe_2.predict_proba(test_x[feature_names])[:,1]\n",
    "\n",
    "feature_importances = final_pipe['lr'].coef_.reshape(-1,)"
   ]
  },
  {
   "cell_type": "code",
   "execution_count": 269,
   "id": "74f2b08f",
   "metadata": {},
   "outputs": [
    {
     "data": {
      "image/png": "[encoded data removed]",
      "text/plain": [
       "<Figure size 432x288 with 1 Axes>"
      ]
     },
     "metadata": {
      "needs_background": "light"
     },
     "output_type": "display_data"
    }
   ],
   "source": [
    "y_pos = np.arange(len(feature_names))\n",
    "fig, ax = plt.subplots()\n",
    "ax.barh(y_pos, feature_importances, align='center')\n",
    "ax.set_yticks(y_pos, labels=feature_names)\n",
    "plt.show()"
   ]
  },
  {
   "cell_type": "code",
   "execution_count": 270,
   "id": "a8799fe1",
   "metadata": {},
   "outputs": [
    {
     "name": "stdout",
     "output_type": "stream",
     "text": [
      "       prob     rank\n",
      "0  0.204315   9786.0\n",
      "1  0.176070   5247.0\n",
      "2  0.193290   7965.0\n",
      "3  0.193338   7979.0\n",
      "4  0.320336  20223.0\n"
     ]
    }
   ],
   "source": [
    "pred_df = pd.DataFrame()\n",
    "pred_df['prob'] = predictions\n",
    "pred_df['rank'] = pred_df.rank()\n",
    "print(pred_df.head())"
   ]
  },
  {
   "cell_type": "code",
   "execution_count": 271,
   "id": "38586a53",
   "metadata": {},
   "outputs": [],
   "source": [
    "submission = pd.DataFrame()\n",
    "submission['id'] = test_ids\n",
    "submission['failure'] = pred_df['rank']\n",
    "submission.to_csv('submission.csv', header=True, index=False)"
   ]
  },
  {
   "cell_type": "code",
   "execution_count": 214,
   "id": "724de20e",
   "metadata": {},
   "outputs": [
    {
     "name": "stderr",
     "output_type": "stream",
     "text": [
      "C:\\ProgramData\\Anaconda3\\lib\\site-packages\\sklearn\\svm\\_base.py:284: ConvergenceWarning: Solver terminated early (max_iter=10000).  Consider pre-processing your data with StandardScaler or MinMaxScaler.\n",
      "  warnings.warn(\n",
      "C:\\ProgramData\\Anaconda3\\lib\\site-packages\\sklearn\\svm\\_base.py:284: ConvergenceWarning: Solver terminated early (max_iter=10000).  Consider pre-processing your data with StandardScaler or MinMaxScaler.\n",
      "  warnings.warn(\n",
      "C:\\ProgramData\\Anaconda3\\lib\\site-packages\\sklearn\\svm\\_base.py:284: ConvergenceWarning: Solver terminated early (max_iter=10000).  Consider pre-processing your data with StandardScaler or MinMaxScaler.\n",
      "  warnings.warn(\n",
      "C:\\ProgramData\\Anaconda3\\lib\\site-packages\\sklearn\\svm\\_base.py:284: ConvergenceWarning: Solver terminated early (max_iter=10000).  Consider pre-processing your data with StandardScaler or MinMaxScaler.\n",
      "  warnings.warn(\n",
      "C:\\ProgramData\\Anaconda3\\lib\\site-packages\\sklearn\\svm\\_base.py:284: ConvergenceWarning: Solver terminated early (max_iter=10000).  Consider pre-processing your data with StandardScaler or MinMaxScaler.\n",
      "  warnings.warn(\n",
      "C:\\ProgramData\\Anaconda3\\lib\\site-packages\\sklearn\\svm\\_base.py:284: ConvergenceWarning: Solver terminated early (max_iter=10000).  Consider pre-processing your data with StandardScaler or MinMaxScaler.\n",
      "  warnings.warn(\n",
      "C:\\ProgramData\\Anaconda3\\lib\\site-packages\\sklearn\\svm\\_base.py:284: ConvergenceWarning: Solver terminated early (max_iter=10000).  Consider pre-processing your data with StandardScaler or MinMaxScaler.\n",
      "  warnings.warn(\n"
     ]
    }
   ],
   "source": [
    "from sklearn.svm import SVC\n",
    "from sklearn.preprocessing import MinMaxScaler\n",
    "\n",
    "svc_param_grid = dict()\n",
    "svc_param_grid['kernel'] = ['sigmoid']\n",
    "svc_param_grid['C'] = [0.0001, 0.001, 0.01, 0.1, 1]\n",
    "svc_param_grid['max_iter'] = [10000]\n",
    "svc_param_grid['probability'] = [False]\n",
    "svc_params = ParameterGrid(svc_param_grid)\n",
    "\n",
    "svc_total_results = []\n",
    "unscaled_svc_total_results = []\n",
    "\n",
    "for g in svc_params:\n",
    "    unscaled_svc_f1_scores = []\n",
    "    unscaled_svc_accuracies = []\n",
    "    unscaled_svc_roc_auc_scores = []\n",
    "    \n",
    "    svc_f1_scores = []\n",
    "    svc_accuracies = []\n",
    "    svc_roc_auc_scores = []\n",
    "    for train_index, test_index in kf.split(train_x, train_y, groups):\n",
    "        x_tr = train_x.iloc[train_index][feature_names]\n",
    "        x_va = train_x.iloc[test_index][feature_names]\n",
    "        y_tr = train_y[train_index]\n",
    "        y_va = train_y[test_index]\n",
    "        \n",
    "        pipe = Pipeline([('scaler', StandardScaler()), ('svc', SVC())])\n",
    "        pipe['svc'].set_params(**g)\n",
    "        pipe.fit(x_tr, y_tr)\n",
    "        probs = pipe.decision_function(x_va)\n",
    "        preds = pipe.predict(x_va)\n",
    "        svc_f1_scores.append(f1_score(y_va, preds))\n",
    "        svc_accuracies.append(pipe.score(x_va, y_va))\n",
    "        svc_roc_auc_scores.append(roc_auc_score(y_va, probs))\n",
    "        \n",
    "    svc_total_results.append( (g, np.mean(svc_f1_scores), np.mean(svc_accuracies), np.mean(svc_roc_auc_scores)))\n",
    "    "
   ]
  },
  {
   "cell_type": "code",
   "execution_count": 216,
   "id": "de178154",
   "metadata": {},
   "outputs": [
    {
     "name": "stdout",
     "output_type": "stream",
     "text": [
      "    roc_auc        f1  accuracy\n",
      "0  0.540104  0.000000  0.787243\n",
      "1  0.535624  0.000000  0.787243\n",
      "3  0.534340  0.007915  0.785655\n",
      "2  0.533647  0.000000  0.787243\n",
      "4  0.528367  0.131434  0.747479\n"
     ]
    }
   ],
   "source": [
    "svc_result_df = pd.DataFrame(svc_total_results, columns=['params', 'f1', 'accuracy', 'roc_auc'])\n",
    "svc_result_df = svc_result_df.sort_values('roc_auc', axis=0, ascending=False)\n",
    "print(svc_result_df.head()[['roc_auc', 'f1', 'accuracy']])\n"
   ]
  },
  {
   "cell_type": "code",
   "execution_count": 211,
   "id": "88928d93",
   "metadata": {},
   "outputs": [
    {
     "name": "stdout",
     "output_type": "stream",
     "text": [
      "                                              params        f1  accuracy  \\\n",
      "1  {'C': 0.0001, 'kernel': 'sigmoid', 'max_iter':...  0.352420  0.244505   \n",
      "5  {'C': 0.01, 'kernel': 'sigmoid', 'max_iter': 1...  0.347944  0.298477   \n",
      "3  {'C': 0.001, 'kernel': 'sigmoid', 'max_iter': ...  0.348724  0.285389   \n",
      "7  {'C': 0.1, 'kernel': 'sigmoid', 'max_iter': 10...  0.349215  0.250141   \n",
      "9  {'C': 1, 'kernel': 'sigmoid', 'max_iter': 1000...  0.313419  0.500641   \n",
      "\n",
      "    roc_auc  \n",
      "1  0.554203  \n",
      "5  0.546352  \n",
      "3  0.543186  \n",
      "7  0.528320  \n",
      "9  0.518944  \n"
     ]
    }
   ],
   "source": [
    "print(svc_result_df.head())"
   ]
  },
  {
   "cell_type": "code",
   "execution_count": null,
   "id": "7c0e0c6b",
   "metadata": {},
   "outputs": [],
   "source": []
  }
 ],
 "metadata": {
  "kernelspec": {
   "display_name": "Python 3 (ipykernel)",
   "language": "python",
   "name": "python3"
  },
  "language_info": {
   "codemirror_mode": {
    "name": "ipython",
    "version": 3
   },
   "file_extension": ".py",
   "mimetype": "text/x-python",
   "name": "python",
   "nbconvert_exporter": "python",
   "pygments_lexer": "ipython3",
   "version": "3.9.12"
  }
 },
 "nbformat": 4,
 "nbformat_minor": 5
}
